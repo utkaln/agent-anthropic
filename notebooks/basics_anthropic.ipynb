{
 "cells": [
  {
   "cell_type": "markdown",
   "metadata": {},
   "source": [
    "### Basic Setup of Model\n",
    "- Reads API key by default from the local env variable in the .env file `ANTHROPIC_API_KEY`\n",
    "- Setup the API key by creating an account in Anthropic portal"
   ]
  },
  {
   "cell_type": "code",
   "execution_count": null,
   "metadata": {},
   "outputs": [],
   "source": [
    "# Basic Setup of the client using Anthropic\n",
    "from anthropic import Anthropic\n",
    "# Load environment variables\n",
    "from dotenv import load_dotenv\n",
    "import os\n",
    "import base64\n",
    "import mimetypes\n",
    "from IPython.display import Image\n",
    "load_dotenv()\n",
    "MODEL_NAME= \"claude-3-5-sonnet-20241022\"\n",
    "client = Anthropic()"
   ]
  },
  {
   "cell_type": "markdown",
   "metadata": {},
   "source": [
    "### Block of code to read user input and accept an image for analysis"
   ]
  },
  {
   "cell_type": "code",
   "execution_count": null,
   "metadata": {},
   "outputs": [],
   "source": [
    "# Define a Image reader helper function\n",
    "def create_image_message(image_path):\n",
    "    print(image_path)\n",
    "    with open(image_path, \"rb\") as file:\n",
    "        # Read content of the image in binary format\n",
    "        binary_data = file.read()\n",
    "        print(\"binary data read !\")\n",
    "    # Convert binary data to base64 encoded string\n",
    "    base64_data = base64.b64encode(binary_data).decode(\"utf-8\")\n",
    "    print(\"base64 data created !\")\n",
    "    # Get mimetype of the image\n",
    "    mimetype, _ = mimetypes.guess_type(image_path)\n",
    "\n",
    "    # Create a message object with the image data\n",
    "    image_message = {\n",
    "        \"type\": \"image\",\n",
    "        \"source\": {\n",
    "            \"data\": base64_data,\n",
    "            \"media_type\": mimetype,\n",
    "            \"type\": \"base64\",\n",
    "        }\n",
    "    }\n",
    "    return image_message\n",
    "\n",
    "\n",
    "user_input = \"What can you tell about this image, it's origin and significance ?\"\n",
    "image_input = \"image.jpg\"\n",
    "messages = [\n",
    "    {\n",
    "        \"role\": \"user\",\n",
    "        \"content\": [\n",
    "            create_image_message(image_input),\n",
    "            {\"type\": \"text\", \"text\": user_input}\n",
    "        ]\n",
    "    }\n",
    "]\n",
    "print(messages)"
   ]
  },
  {
   "cell_type": "markdown",
   "metadata": {},
   "source": [
    "#### Print response all at once\n",
    "- This method will let the user wait longer to load the message until entire response is obtained"
   ]
  },
  {
   "cell_type": "code",
   "execution_count": null,
   "metadata": {},
   "outputs": [],
   "source": [
    "# Print the whole message at once (longer wait for user)\n",
    "response = client.messages.create(\n",
    "    model=MODEL_NAME,\n",
    "    max_tokens=1000,\n",
    "    messages=messages,\n",
    ")\n",
    "\n",
    "print(response)"
   ]
  },
  {
   "cell_type": "markdown",
   "metadata": {},
   "source": [
    "#### Stream the response \n",
    "- This approach prints the response as it comes through, thus reducing the wait time for user to see first response"
   ]
  },
  {
   "cell_type": "code",
   "execution_count": null,
   "metadata": {},
   "outputs": [],
   "source": [
    "# Stream messages to the model (shorter wait for the user)\n",
    "with client.messages.stream(\n",
    "    model=MODEL_NAME,\n",
    "    max_tokens=1000,\n",
    "    messages=messages,\n",
    ") as stream:\n",
    "    for text in stream.text_stream:\n",
    "        print(text, end=\"\", flush=True)"
   ]
  },
  {
   "cell_type": "code",
   "execution_count": null,
   "metadata": {},
   "outputs": [],
   "source": []
  }
 ],
 "metadata": {
  "kernelspec": {
   "display_name": ".venv",
   "language": "python",
   "name": "python3"
  },
  "language_info": {
   "codemirror_mode": {
    "name": "ipython",
    "version": 3
   },
   "file_extension": ".py",
   "mimetype": "text/x-python",
   "name": "python",
   "nbconvert_exporter": "python",
   "pygments_lexer": "ipython3",
   "version": "3.12.8"
  }
 },
 "nbformat": 4,
 "nbformat_minor": 2
}
