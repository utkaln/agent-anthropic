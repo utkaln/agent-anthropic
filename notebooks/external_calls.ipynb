{
 "cells": [
  {
   "cell_type": "markdown",
   "metadata": {},
   "source": [
    "### Call External tools via AI Agent \n",
    "- Retrieve data from external api, query database, execute code, search web, control a computer"
   ]
  },
  {
   "cell_type": "code",
   "execution_count": null,
   "metadata": {},
   "outputs": [],
   "source": [
    "from anthropic import Anthropic\n",
    "from dotenv import load_dotenv\n",
    "import os\n",
    "load_dotenv()\n",
    "MODEL_NAME= \"claude-3-5-sonnet-20241022\"\n",
    "client = Anthropic()"
   ]
  },
  {
   "cell_type": "markdown",
   "metadata": {},
   "source": [
    "#### Define a system prompt \n",
    "- This needs to be added to the beginning of the message to be sent to Claude"
   ]
  },
  {
   "cell_type": "code",
   "execution_count": 2,
   "metadata": {},
   "outputs": [],
   "source": [
    "system_prompt = \"\"\"You are a customer support bot for a online event registration platform. Your job is to help the users with their registration status by looking up via their name or email or state. You have access to set of tools, but use them only when you need to find some specific data based on the user input. Provide concise responses and do not provide any data outside the scope of the user query. Do not call tools if the user has not provided any specific input data. \n",
    "\n",
    "In each conversational turn, you will begin by thinking about your response. Once you are done, you will write a user facing response. It is important to place all your user facing responses in <reply></reply> XML tags that would make for the application layer to easily parse.  \"\"\""
   ]
  },
  {
   "cell_type": "markdown",
   "metadata": {},
   "source": [
    "#### Read a csv file for data and use this as data source"
   ]
  },
  {
   "cell_type": "code",
   "execution_count": 3,
   "metadata": {},
   "outputs": [],
   "source": [
    "import pandas as pd\n",
    "event_df = pd.read_csv('./local_file.csv')\n",
    "def get_data_by_state(state):\n",
    "    data_state = event_df.query(\"State == @state\")\n",
    "    return data_state\n",
    "\n",
    "def get_data_by_fname(fname):\n",
    "    data_fname = event_df.query(\"First == @fname\")\n",
    "    return data_fname\n",
    "\n",
    "def get_data_by_lname(lname):\n",
    "    data_lname = event_df.query(\"Last == @lname\")\n",
    "    return data_lname\n",
    "\n",
    "def get_data_by_email(email):\n",
    "    data_email = event_df.query(\"Email == @email\")\n",
    "    return data_email\n",
    "\n",
    "def get_data_by_hotel(hotel):\n",
    "    data_hotel = event_df.query(\"Hotel == @hotel\")\n",
    "    return data_hotel\n",
    "\n",
    "def get_data_by_food(food):\n",
    "    data_food = event_df.query(\"Food == @food\")\n",
    "    return data_food\n"
   ]
  },
  {
   "cell_type": "markdown",
   "metadata": {},
   "source": [
    "#### Define tool schema for the Agent"
   ]
  },
  {
   "cell_type": "code",
   "execution_count": 4,
   "metadata": {},
   "outputs": [],
   "source": [
    "tools = [\n",
    "    {\n",
    "        \"name\": \"get_data_by_state\",\n",
    "        \"description\": \"Get data by input state value\",\n",
    "        \"input_schema\":{\n",
    "            \"type\": \"object\",\n",
    "            \"properties\": {\n",
    "                \"state\": {\n",
    "                    \"type\": \"string\",\n",
    "                    \"description\": \"Input value of state name\"\n",
    "                }\n",
    "            },\n",
    "            \"required\": [\"state\"]\n",
    "        }\n",
    "    }, \n",
    "    {\n",
    "        \"name\": \"get_data_by_fname\",\n",
    "        \"description\": \"Get data from input first name value\",\n",
    "        \"input_schema\":{\n",
    "            \"type\": \"object\",\n",
    "            \"properties\": {\n",
    "                \"fname\": {\n",
    "                    \"type\": \"string\",\n",
    "                    \"description\": \"Input value of first name\"\n",
    "                }\n",
    "            },\n",
    "            \"required\": [\"fname\"]\n",
    "        }\n",
    "    }, \n",
    "    {\n",
    "        \"name\": \"get_data_by_lname\",\n",
    "        \"description\": \"Get data from input last name value\",\n",
    "        \"input_schema\":{\n",
    "            \"type\": \"object\",\n",
    "            \"properties\": {\n",
    "                \"lname\": {\n",
    "                    \"type\": \"string\",\n",
    "                    \"description\": \"Input value of last name\"\n",
    "                }\n",
    "            },\n",
    "            \"required\": [\"lname\"]\n",
    "        }\n",
    "    }, \n",
    "    {\n",
    "        \"name\": \"get_data_by_email\",\n",
    "        \"description\": \"Get data from input email value\",\n",
    "        \"input_schema\":{\n",
    "            \"type\": \"object\",\n",
    "            \"properties\": {\n",
    "                \"email\": {\n",
    "                    \"type\": \"string\",\n",
    "                    \"description\": \"Input value of email\"\n",
    "                }\n",
    "            },\n",
    "            \"required\": [\"email\"]\n",
    "        }\n",
    "    }, \n",
    "    {\n",
    "        \"name\": \"get_data_by_hotel\",\n",
    "        \"description\": \"Get data from input hotel value\",\n",
    "        \"input_schema\":{\n",
    "            \"type\": \"object\",\n",
    "            \"properties\": {\n",
    "                \"hotel\": {\n",
    "                    \"type\": \"string\",\n",
    "                    \"description\": \"Input value of hotel\"\n",
    "                }\n",
    "            },\n",
    "            \"required\": [\"hotel\"]\n",
    "        }\n",
    "    }, \n",
    "    {\n",
    "        \"name\": \"get_data_by_food\",\n",
    "        \"description\": \"Get data from input food value\",\n",
    "        \"input_schema\":{\n",
    "            \"type\": \"object\",\n",
    "            \"properties\": {\n",
    "                \"food\": {\n",
    "                    \"type\": \"string\",\n",
    "                    \"description\": \"Input value of food\"\n",
    "                }\n",
    "            },\n",
    "            \"required\": [\"food\"]\n",
    "        }\n",
    "    }      \n",
    "]"
   ]
  },
  {
   "cell_type": "markdown",
   "metadata": {},
   "source": [
    "#### Define method to call tool once Assistant determines to call tools"
   ]
  },
  {
   "cell_type": "code",
   "execution_count": 5,
   "metadata": {},
   "outputs": [],
   "source": [
    "def process_tool_call(tool_name, input_data):\n",
    "    if tool_name == \"get_data_by_state\":\n",
    "        return get_data_by_state(input_data['state'])\n",
    "    elif tool_name == \"get_data_by_fname\":\n",
    "        return get_data_by_fname(input_data['fname'])\n",
    "    elif tool_name == \"get_data_by_lname\":\n",
    "        return get_data_by_lname(input_data['lname'])\n",
    "    elif tool_name == \"get_data_by_email\":\n",
    "        return get_data_by_email(input_data['email'])\n",
    "    elif tool_name == \"get_data_by_hotel\":\n",
    "        return get_data_by_hotel(input_data['hotel'])\n",
    "    elif tool_name == \"get_data_by_food\":\n",
    "        return get_data_by_food(input_data['food'])"
   ]
  },
  {
   "cell_type": "markdown",
   "metadata": {},
   "source": [
    "### Define a chat flow (main method that gets invoked)\n",
    "- type quit as user input to stop"
   ]
  },
  {
   "cell_type": "code",
   "execution_count": 33,
   "metadata": {},
   "outputs": [],
   "source": [
    "def claude_chat():\n",
    "    user_message = input(\"\\nUser:\")\n",
    "    system_message = \"\"\"You are a customer support bot for a online event registration platform. Your job is to help the users with their registration status by looking up via their name or email or state. You have access to set of tools, but use them only when you need to find some specific data based on the user input. Provide concise responses and do not provide any data outside the scope of the user query. Do not call tools if the user has not provided any specific input data. \n",
    "\n",
    "    In each conversational turn, you will begin by thinking about your response. Once you are done, you will write a user facing response. It is important to place all your user facing responses in <reply></reply> XML tags that would make for the application layer to easily parse.  \"\"\"\n",
    "    messages = [\n",
    "        {\n",
    "            \"role\": \"user\",\n",
    "            \"content\": user_message,\n",
    "        }\n",
    "    ]\n",
    "    while True:\n",
    "        if user_message.lower() in [\"exit\",\"quit\",\"end chat\"] :\n",
    "            break\n",
    "        \n",
    "        # Send response to Claude\n",
    "        response = client.messages.create(\n",
    "            model=MODEL_NAME,\n",
    "            messages=messages,\n",
    "            system=system_message,\n",
    "            tools=tools,\n",
    "            max_tokens=1000,\n",
    "        )\n",
    "\n",
    "        # Append response to messages\n",
    "        messages.append({\n",
    "            \"role\": \"assistant\",\n",
    "            \"content\": response.content[0].text,\n",
    "        })\n",
    "\n",
    "        # If assistant stop reason tool usage, then apply tool usage\n",
    "        if response.stop_reason == \"tool_use\":\n",
    "            tool_use = response.content[-1]\n",
    "            tool_name = tool_use.name\n",
    "            tool_input = tool_use.input\n",
    "            print(f\"Claude wants to use tool: {tool_name} with input: {tool_input}\")\n",
    "            # Call tool function\n",
    "            tool_output = process_tool_call(tool_name, tool_input)\n",
    "\n",
    "            # Append tool output to messages    \n",
    "            messages.append({\n",
    "                \"role\": \"assistant\",\n",
    "                \"content\": tool_output.to_string(index=False),\n",
    "            })\n",
    "        else:\n",
    "            # Claude does not want to use any tools, just print the response message\n",
    "            print(f\"Claude: {response.content[0].text}\")\n",
    "\n"
   ]
  },
  {
   "cell_type": "markdown",
   "metadata": {},
   "source": [
    "#### Invole Chat Client"
   ]
  },
  {
   "cell_type": "code",
   "execution_count": null,
   "metadata": {},
   "outputs": [],
   "source": [
    "claude_chat()"
   ]
  }
 ],
 "metadata": {
  "kernelspec": {
   "display_name": ".venv",
   "language": "python",
   "name": "python3"
  },
  "language_info": {
   "codemirror_mode": {
    "name": "ipython",
    "version": 3
   },
   "file_extension": ".py",
   "mimetype": "text/x-python",
   "name": "python",
   "nbconvert_exporter": "python",
   "pygments_lexer": "ipython3",
   "version": "3.12.8"
  }
 },
 "nbformat": 4,
 "nbformat_minor": 2
}
